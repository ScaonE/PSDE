{
 "cells": [
  {
   "cell_type": "markdown",
   "metadata": {},
   "source": [
    "# PSDE project"
   ]
  },
  {
   "cell_type": "markdown",
   "metadata": {
    "collapsed": true
   },
   "source": [
    "# 1) IMGT"
   ]
  },
  {
   "cell_type": "markdown",
   "metadata": {},
   "source": [
    "Browse IMGT to find IGLV, IGKV and IGHV human and mouse locus"
   ]
  },
  {
   "cell_type": "markdown",
   "metadata": {},
   "source": [
    "- Go to IMGT website : http://www.imgt.org\n",
    "- In \"IMGT Web resources\", click on \"IMGT Repertoire\" (http://www.imgt.org/IMGTrepertoire/)\n",
    "- Click on part 1 \"Locus and genes\" (http://www.imgt.org/IMGTrepertoire/LocusGenes/)\n",
    "- To find the human genes list : click on part 9 \"IG genes: Human\"\n",
    "- To find the mouse genes list : click on part 10 \"IG genes: Mouse\"\n",
    "\n",
    "For the two last steps, you will get an immunoglobulin and T cell receptor genes coding genes table for human or mouse according you chose part 9 or part 10.\n",
    "\n",
    "- For each table, handmade, copy/paste in spreadsheet like Excel genes rows that you want (2nd column), here, we will take IGLV, IGKV and IGHV rows.\n",
    "- In spreadsheet, create a new sheet for human genes and an other one for mouse genes.\n",
    "- For each sheet, do Ctrl + A, then \"Effacer le formatage direct\" (french 4ever) (or find a way to convert all entries in text). This step is important !\n",
    "- Save your Excel (/media/sf_raid/Data/PSDE/IMGT_table.xlsx)"
   ]
  },
  {
   "cell_type": "markdown",
   "metadata": {},
   "source": [
    "# 2) Manage all genes "
   ]
  },
  {
   "cell_type": "markdown",
   "metadata": {},
   "source": [
    "The first step is to download an IGMT file for all genes number accession existing in spreasheet (7th column)\n",
    "IMGT file is like Genbank file with IMGT annotation.\n",
    "We will not donwload an IMGT file directly but the HTML page of IMGT display that we will modify."
   ]
  },
  {
   "cell_type": "markdown",
   "metadata": {},
   "source": [
    "## 2.1) Recover IMGT format"
   ]
  },
  {
   "cell_type": "markdown",
   "metadata": {},
   "source": [
    "Directory creation for human and mouse genes :"
   ]
  },
  {
   "cell_type": "code",
   "execution_count": 5,
   "metadata": {
    "collapsed": true
   },
   "outputs": [],
   "source": [
    "### CODE ###\n",
    "mkdir /media/sf_raid/Data/PSDE/human\n",
    "mkdir /media/sf_raid/Data/PSDE/mouse"
   ]
  },
  {
   "cell_type": "code",
   "execution_count": 6,
   "metadata": {
    "collapsed": true
   },
   "outputs": [],
   "source": [
    "### CODE ###\n",
    "cd /media/sf_raid/Projects/PSDE\n",
    "python imgt_api.py > imgt_api.verbose"
   ]
  },
  {
   "cell_type": "markdown",
   "metadata": {},
   "source": [
    "Content of imgt_api.py :"
   ]
  },
  {
   "cell_type": "code",
   "execution_count": null,
   "metadata": {
    "code_folding": [
     0
    ],
    "collapsed": true
   },
   "outputs": [],
   "source": [
    "### CODE ###\n",
    "import urllib\n",
    "import pandas as pd\n",
    "import sys\n",
    "reload(sys);\n",
    "sys.setdefaultencoding(\"utf8\")\n",
    "\n",
    "##GET IMGT FORMAT FOR ALL GENES ACCESSION NUMBER\n",
    "\n",
    "#sys.stderr = open('/media/sf_raid/Projects/PSDE/error.txt', 'w+')\n",
    "\n",
    "df = pd.ExcelFile('/media/sf_raid/Data/PSDE/IMGT_table.xlsx')\n",
    "\n",
    "df_human = df.parse(\"human\")\n",
    "df_mouse = df.parse(\"mouse\")\n",
    "\n",
    "#WARNING : weird space 'sequence(s)for'\n",
    "\n",
    "#HUMAN\n",
    "print(\"HUMAN\")\n",
    "for index, row in df_human.iterrows():\n",
    "\tif str(row[6]) != \"\" and str(row[6]) != \"nan\" and str(row[6]) != \"Na\" and str(row[6]) != \"NaN\" :\n",
    "\t\tif len(str(row[6]).split(\" \"))>1:\n",
    "\t\t\tfor i in str(row[6]).split(\" \") :\n",
    "\t\t\t\tfile_name=str(row[1])+\"_\"+str(i)+'.txt'\n",
    "\t\t\t\tfile_name = file_name.replace(\"/\",\"-\")\n",
    "\t\t\t\tprint(file_name)\n",
    "\t\t\t\turllib.urlretrieve(\"http://www.imgt.org/ligmdb/view?format=IMGT&id=\"+str(row[6]), \"/media/sf_raid/Data/PSDE/human/\"+file_name)\n",
    "\t\telif len(str(row[6]).split(\"\\xc2\\xa0\"))>1:\n",
    "\t\t\tfor i in str(row[6]).split(\"\\xc2\\xa0\") :\n",
    "\t\t\t\tfile_name=str(row[1])+\"_\"+str(i)+'.txt'\n",
    "\t\t\t\tfile_name = file_name.replace(\"/\",\"-\")\n",
    "\t\t\t\tprint(file_name)\n",
    "\t\t\t\turllib.urlretrieve(\"http://www.imgt.org/ligmdb/view?format=IMGT&id=\"+str(i), \"/media/sf_raid/Data/PSDE/human/\"+file_name)\n",
    "\t\telse:\n",
    "\t\t\tfile_name=str(row[1])+\"_\"+str(row[6])+'.txt'\n",
    "\t\t\tfile_name = file_name.replace(\"/\",\"-\")\n",
    "\t\t\tprint(file_name)\n",
    "\t\t\turllib.urlretrieve(\"http://www.imgt.org/ligmdb/view?format=IMGT&id=\"+str(row[6]), \"/media/sf_raid/Data/PSDE/human/\"+file_name)\n",
    "\telse:\n",
    "\t\tprint(\"WARNING : \"+str(row[1])+\" doesn't have reference sequence in IMGT\")\n",
    "\n",
    "#MOUSE\n",
    "print(\"MOUSE\")\n",
    "for index, row in df_mouse.iterrows():\n",
    "\tif str(row[6]) != \"\" and str(row[6]) != \"nan\" and str(row[6]) != \"Na\" and str(row[6]) != \"NaN\" :\n",
    "\t\tif len(str(row[6]).split(\" \"))>1:\n",
    "\t\t\tfor i in str(row[6]).split(\" \") :\n",
    "\t\t\t\tfile_name=str(row[1])+\"_\"+str(i)+'.txt'\n",
    "\t\t\t\tfile_name = file_name.replace(\"/\",\"-\")\n",
    "\t\t\t\tprint(file_name)\n",
    "\t\t\t\turllib.urlretrieve(\"http://www.imgt.org/ligmdb/view?format=IMGT&id=\"+str(i), \"/media/sf_raid/Data/PSDE/mouse/\"+file_name)\n",
    "\t\telif len(str(row[6]).split(\"\\xc2\\xa0\"))>1:\n",
    "\t\t\tfor i in str(row[6]).split(\"\\xc2\\xa0\") :\n",
    "\t\t\t\tfile_name=str(row[1])+\"_\"+str(i)+'.txt'\n",
    "\t\t\t\tfile_name = file_name.replace(\"/\",\"-\")\n",
    "\t\t\t\tprint(file_name)\n",
    "\t\t\t\turllib.urlretrieve(\"http://www.imgt.org/ligmdb/view?format=IMGT&id=\"+str(i), \"/media/sf_raid/Data/PSDE/mouse/\"+file_name)\n",
    "\t\telse:\n",
    "\t\t\tfile_name=str(row[1])+\"_\"+str(row[6])+'.txt'\n",
    "\t\t\tfile_name = file_name.replace(\"/\",\"-\")\n",
    "\t\t\tprint(file_name)\n",
    "\t\t\turllib.urlretrieve(\"http://www.imgt.org/ligmdb/view?format=IMGT&id=\"+str(row[6]), \"/media/sf_raid/Data/PSDE/mouse/\"+file_name)\n",
    "\telse:\n",
    "\t\tprint(\"WARNING : \"+str(row[1])+\" doesn't have reference sequence in IMGT\")"
   ]
  },
  {
   "cell_type": "markdown",
   "metadata": {},
   "source": [
    "## 2.2) HTML modifications"
   ]
  },
  {
   "cell_type": "code",
   "execution_count": 7,
   "metadata": {
    "code_folding": [],
    "collapsed": true
   },
   "outputs": [],
   "source": [
    "### CODE ###\n",
    "cd /media/sf_raid/Projects/PSDE\n",
    "python imgt_manage_file.py > imgt_manage.verbose"
   ]
  },
  {
   "cell_type": "markdown",
   "metadata": {},
   "source": [
    "Content of imgt_manage_file.py :"
   ]
  },
  {
   "cell_type": "code",
   "execution_count": null,
   "metadata": {
    "code_folding": [
     0
    ],
    "collapsed": true
   },
   "outputs": [],
   "source": [
    "### CODE ###\n",
    "import urllib\n",
    "import pandas as pd\n",
    "import sys\n",
    "from os import listdir\n",
    "from os.path import isfile, join\n",
    "\n",
    "##HTML MODIFICATIONS\n",
    "\n",
    "files = [f for f in listdir(\"/media/sf_raid/Data/PSDE/human/\") if isfile(join(\"/media/sf_raid/Data/PSDE/human/\", f))]\n",
    "for i in files :\n",
    "\tprint(i)\n",
    "\tbool_write=False\n",
    "\tfr = open(\"/media/sf_raid/Data/PSDE/human/\"+i,\"r\")\n",
    "\tfw = open(\"/media/sf_raid/Data/PSDE/human/\"+i[:-4]+\"_imgt.txt\",\"w\")\n",
    "\tfor line in fr :\n",
    "\t\tif line.startswith(\"<pre>\"):\n",
    "\t\t\tbool_write=True\n",
    "\t\t\tline=line[5:]\n",
    "\t\tif line.startswith(\"</pre>\"):\n",
    "\t\t\tbreak\n",
    "\t\tif bool_write:\n",
    "\t\t\tfw.write(line)\n",
    "\tfw.close()\n",
    "\n",
    "files = [f for f in listdir(\"/media/sf_raid/Data/PSDE/mouse/\") if isfile(join(\"/media/sf_raid/Data/PSDE/mouse/\", f))]\n",
    "for i in files :\n",
    "\tprint(i)\n",
    "\tbool_write=False\n",
    "\tfr = open(\"/media/sf_raid/Data/PSDE/mouse/\"+i,\"r\")\n",
    "\tfw = open(\"/media/sf_raid/Data/PSDE/mouse/\"+i[:-4]+\"_imgt.txt\",\"w\")\n",
    "\tfor line in fr :\n",
    "\t\tif line.startswith(\"<pre>\"):\n",
    "\t\t\tbool_write=True\n",
    "\t\t\tline=line[5:]\n",
    "\t\tif line.startswith(\"</pre>\"):\n",
    "\t\t\tbreak\n",
    "\t\tif bool_write:\n",
    "\t\t\tfw.write(line)\n",
    "\tfw.close()"
   ]
  },
  {
   "cell_type": "markdown",
   "metadata": {},
   "source": [
    "# 2.3) Sequence manipulations"
   ]
  },
  {
   "cell_type": "markdown",
   "metadata": {},
   "source": [
    "##### NOT IMPLEMENTED YET !"
   ]
  }
 ],
 "metadata": {
  "anaconda-cloud": {},
  "kernelspec": {
   "display_name": "Bash",
   "language": "bash",
   "name": "bash"
  }
 },
 "nbformat": 4,
 "nbformat_minor": 1
}
