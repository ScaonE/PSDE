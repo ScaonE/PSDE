{
 "cells": [
  {
   "cell_type": "markdown",
   "metadata": {},
   "source": [
    "# PSDE project"
   ]
  },
  {
   "cell_type": "markdown",
   "metadata": {
    "collapsed": true
   },
   "source": [
    "# 1) IMGT"
   ]
  },
  {
   "cell_type": "markdown",
   "metadata": {},
   "source": [
    "Browse IMGT to find IGLV, IGKV and IGHV human and mouse locus"
   ]
  },
  {
   "cell_type": "markdown",
   "metadata": {},
   "source": [
    "- Go to IMGT website : http://www.imgt.org\n",
    "- In \"IMGT Web resources\", click on \"IMGT Repertoire\" (http://www.imgt.org/IMGTrepertoire/)\n",
    "- Click on part 1 \"Locus and genes\" (http://www.imgt.org/IMGTrepertoire/LocusGenes/)\n",
    "- To find the human genes list : click on part 9 \"IG genes: Human\"\n",
    "- To find the mouse genes list : click on part 10 \"IG genes: Mouse\"\n",
    "\n",
    "For the two last steps, you will get an immunoglobulin and T cell receptor genes coding genes table for human or mouse according you chose part 9 or part 10.\n",
    "\n",
    "- For each table, handmade, copy/paste in spreadsheet like Excel genes rows that you want (2nd column), here, we will take IGLV, IGKV and IGHV rows.\n",
    "- In spreadsheet, create a new sheet for human genes and an other one for mouse genes.\n",
    "- For each sheet, do Ctrl + A, then \"Effacer le formatage direct\" (french 4ever) (or find a way to convert all entries in text). This step is important !\n",
    "- Save your Excel (/media/sf_raid/Data/PSDE/IMGT_table.xlsx)"
   ]
  },
  {
   "cell_type": "markdown",
   "metadata": {},
   "source": [
    "# 2) Manage all genes "
   ]
  },
  {
   "cell_type": "markdown",
   "metadata": {},
   "source": [
    "## 2.1) Recover IMGT format"
   ]
  },
  {
   "cell_type": "markdown",
   "metadata": {},
   "source": [
    "The first step is to download an IGMT file for unique number accession genes existing in spreasheet (7th column)\n",
    "IMGT file is like Genbank file with IMGT annotation.\n",
    "We will not donwload an IMGT file directly but the HTML page of IMGT display that we will modify."
   ]
  },
  {
   "cell_type": "markdown",
   "metadata": {},
   "source": [
    "Directory creation for human and mouse genes :"
   ]
  },
  {
   "cell_type": "code",
   "execution_count": 5,
   "metadata": {
    "collapsed": true
   },
   "outputs": [],
   "source": [
    "### CODE ###\n",
    "mkdir /media/sf_raid/Data/PSDE/human\n",
    "mkdir /media/sf_raid/Data/PSDE/mouse"
   ]
  },
  {
   "cell_type": "code",
   "execution_count": 6,
   "metadata": {
    "collapsed": true
   },
   "outputs": [],
   "source": [
    "### CODE ###\n",
    "cd /media/sf_raid/Projects/PSDE\n",
    "python imgt_api.py > imgt_api.verbose"
   ]
  },
  {
   "cell_type": "markdown",
   "metadata": {},
   "source": [
    "Content of imgt_api.py :"
   ]
  },
  {
   "cell_type": "code",
   "execution_count": null,
   "metadata": {
    "code_folding": [
     0
    ],
    "collapsed": true
   },
   "outputs": [],
   "source": [
    "### CODE ###\n",
    "import urllib\n",
    "import pandas as pd\n",
    "import sys\n",
    "reload(sys);\n",
    "sys.setdefaultencoding(\"utf8\")\n",
    "\n",
    "##GET IMGT FORMAT FOR ALL GENES ACCESSION NUMBER\n",
    "\n",
    "#sys.stderr = open('/media/sf_raid/Projects/PSDE/error.txt', 'w+')\n",
    "\n",
    "df = pd.ExcelFile('/media/sf_raid/Data/PSDE/IMGT_table.xlsx')\n",
    "\n",
    "df_human = df.parse(\"human\")\n",
    "df_mouse = df.parse(\"mouse\")\n",
    "\n",
    "#WARNING : weird space 'sequence(s)for'\n",
    "\n",
    "#HUMAN\n",
    "print(\"HUMAN\")\n",
    "for index, row in df_human.iterrows():\n",
    "\tif str(row[6]) != \"\" and str(row[6]) != \"nan\" and str(row[6]) != \"Na\" and str(row[6]) != \"NaN\" :\n",
    "\t\tif len(str(row[6]).split(\" \"))>1:\n",
    "\t\t\tfor i in str(row[6]).split(\" \") :\n",
    "\t\t\t\tfile_name=str(row[1])+\"_\"+str(i)+'.txt'\n",
    "\t\t\t\tfile_name = file_name.replace(\"/\",\"-\")\n",
    "\t\t\t\tprint(file_name)\n",
    "\t\t\t\turllib.urlretrieve(\"http://www.imgt.org/ligmdb/view?format=IMGT&id=\"+str(row[6]), \"/media/sf_raid/Data/PSDE/human/\"+file_name)\n",
    "\t\telif len(str(row[6]).split(\"\\xc2\\xa0\"))>1:\n",
    "\t\t\tfor i in str(row[6]).split(\"\\xc2\\xa0\") :\n",
    "\t\t\t\tfile_name=str(row[1])+\"_\"+str(i)+'.txt'\n",
    "\t\t\t\tfile_name = file_name.replace(\"/\",\"-\")\n",
    "\t\t\t\tprint(file_name)\n",
    "\t\t\t\turllib.urlretrieve(\"http://www.imgt.org/ligmdb/view?format=IMGT&id=\"+str(i), \"/media/sf_raid/Data/PSDE/human/\"+file_name)\n",
    "\t\telse:\n",
    "\t\t\tfile_name=str(row[1])+\"_\"+str(row[6])+'.txt'\n",
    "\t\t\tfile_name = file_name.replace(\"/\",\"-\")\n",
    "\t\t\tprint(file_name)\n",
    "\t\t\turllib.urlretrieve(\"http://www.imgt.org/ligmdb/view?format=IMGT&id=\"+str(row[6]), \"/media/sf_raid/Data/PSDE/human/\"+file_name)\n",
    "\telse:\n",
    "\t\tprint(\"WARNING : \"+str(row[1])+\" doesn't have reference sequence in IMGT\")\n",
    "\n",
    "#MOUSE\n",
    "print(\"MOUSE\")\n",
    "for index, row in df_mouse.iterrows():\n",
    "\tif str(row[6]) != \"\" and str(row[6]) != \"nan\" and str(row[6]) != \"Na\" and str(row[6]) != \"NaN\" :\n",
    "\t\tif len(str(row[6]).split(\" \"))>1:\n",
    "\t\t\tfor i in str(row[6]).split(\" \") :\n",
    "\t\t\t\tfile_name=str(row[1])+\"_\"+str(i)+'.txt'\n",
    "\t\t\t\tfile_name = file_name.replace(\"/\",\"-\")\n",
    "\t\t\t\tprint(file_name)\n",
    "\t\t\t\turllib.urlretrieve(\"http://www.imgt.org/ligmdb/view?format=IMGT&id=\"+str(i), \"/media/sf_raid/Data/PSDE/mouse/\"+file_name)\n",
    "\t\telif len(str(row[6]).split(\"\\xc2\\xa0\"))>1:\n",
    "\t\t\tfor i in str(row[6]).split(\"\\xc2\\xa0\") :\n",
    "\t\t\t\tfile_name=str(row[1])+\"_\"+str(i)+'.txt'\n",
    "\t\t\t\tfile_name = file_name.replace(\"/\",\"-\")\n",
    "\t\t\t\tprint(file_name)\n",
    "\t\t\t\turllib.urlretrieve(\"http://www.imgt.org/ligmdb/view?format=IMGT&id=\"+str(i), \"/media/sf_raid/Data/PSDE/mouse/\"+file_name)\n",
    "\t\telse:\n",
    "\t\t\tfile_name=str(row[1])+\"_\"+str(row[6])+'.txt'\n",
    "\t\t\tfile_name = file_name.replace(\"/\",\"-\")\n",
    "\t\t\tprint(file_name)\n",
    "\t\t\turllib.urlretrieve(\"http://www.imgt.org/ligmdb/view?format=IMGT&id=\"+str(row[6]), \"/media/sf_raid/Data/PSDE/mouse/\"+file_name)\n",
    "\telse:\n",
    "\t\tprint(\"WARNING : \"+str(row[1])+\" doesn't have reference sequence in IMGT\")"
   ]
  },
  {
   "cell_type": "markdown",
   "metadata": {},
   "source": [
    "## 2.2) HTML modifications"
   ]
  },
  {
   "cell_type": "markdown",
   "metadata": {},
   "source": [
    "Then, once the HTML files are recovered, we chop each file to create a GenBank file like."
   ]
  },
  {
   "cell_type": "code",
   "execution_count": 7,
   "metadata": {
    "code_folding": [],
    "collapsed": true
   },
   "outputs": [],
   "source": [
    "### CODE ###\n",
    "cd /media/sf_raid/Projects/PSDE\n",
    "python imgt_manage_file.py > imgt_manage.verbose"
   ]
  },
  {
   "cell_type": "markdown",
   "metadata": {},
   "source": [
    "Content of imgt_manage_file.py :"
   ]
  },
  {
   "cell_type": "code",
   "execution_count": null,
   "metadata": {
    "code_folding": [
     0
    ],
    "collapsed": true
   },
   "outputs": [],
   "source": [
    "### CODE ###\n",
    "import urllib\n",
    "import pandas as pd\n",
    "import sys\n",
    "from os import listdir\n",
    "from os.path import isfile, join\n",
    "\n",
    "##HTML MODIFICATIONS\n",
    "\n",
    "files = [f for f in listdir(\"/media/sf_raid/Data/PSDE/human/\") if isfile(join(\"/media/sf_raid/Data/PSDE/human/\", f))]\n",
    "for i in files :\n",
    "\tprint(i)\n",
    "\tbool_write=False\n",
    "\tfr = open(\"/media/sf_raid/Data/PSDE/human/\"+i,\"r\")\n",
    "\tfw = open(\"/media/sf_raid/Data/PSDE/human/\"+i[:-4]+\"_imgt.txt\",\"w\")\n",
    "\tfor line in fr :\n",
    "\t\tif line.startswith(\"<pre>\"):\n",
    "\t\t\tbool_write=True\n",
    "\t\t\tline=line[5:]\n",
    "\t\tif line.startswith(\"</pre>\"):\n",
    "\t\t\tbreak\n",
    "\t\tif bool_write:\n",
    "\t\t\tfw.write(line)\n",
    "\tfw.close()\n",
    "\n",
    "files = [f for f in listdir(\"/media/sf_raid/Data/PSDE/mouse/\") if isfile(join(\"/media/sf_raid/Data/PSDE/mouse/\", f))]\n",
    "for i in files :\n",
    "\tprint(i)\n",
    "\tbool_write=False\n",
    "\tfr = open(\"/media/sf_raid/Data/PSDE/mouse/\"+i,\"r\")\n",
    "\tfw = open(\"/media/sf_raid/Data/PSDE/mouse/\"+i[:-4]+\"_imgt.txt\",\"w\")\n",
    "\tfor line in fr :\n",
    "\t\tif line.startswith(\"<pre>\"):\n",
    "\t\t\tbool_write=True\n",
    "\t\t\tline=line[5:]\n",
    "\t\tif line.startswith(\"</pre>\"):\n",
    "\t\t\tbreak\n",
    "\t\tif bool_write:\n",
    "\t\t\tfw.write(line)\n",
    "\tfw.close()"
   ]
  },
  {
   "cell_type": "markdown",
   "metadata": {},
   "source": [
    "# 2.3) Sequence manipulations"
   ]
  },
  {
   "cell_type": "markdown",
   "metadata": {},
   "source": [
    "For each file downloaded, we collect V-GENE, L-PART1, V-EXON and the sequence belongs to the L-PART1 + V-EXON. All results are sent to a new file in fasta format with V-GENE as gene sequence."
   ]
  },
  {
   "cell_type": "code",
   "execution_count": null,
   "metadata": {
    "collapsed": true
   },
   "outputs": [],
   "source": [
    "### CODE ###\n",
    "cd /media/sf_raid/Projects/PSDE\n",
    "python imgt_get_infos.py > imgt_get_infos.verbose"
   ]
  },
  {
   "cell_type": "markdown",
   "metadata": {},
   "source": [
    "Content of imgt_get_infos.py :"
   ]
  },
  {
   "cell_type": "code",
   "execution_count": null,
   "metadata": {
    "code_folding": [
     0
    ],
    "collapsed": true
   },
   "outputs": [],
   "source": [
    "### CODE ###\n",
    "import urllib\n",
    "import pandas as pd\n",
    "import sys\n",
    "from os import listdir\n",
    "from os.path import isfile, join\n",
    "from Bio import SeqIO\n",
    "from Bio.SeqRecord import SeqRecord\n",
    "from Bio.Seq import Seq\n",
    "from Bio.Alphabet import generic_dna\n",
    "\n",
    "type_file = \"mouse\"\n",
    "\n",
    "files = [f for f in listdir(\"/media/sf_raid/Data/PSDE/\"+type_file+\"/\") if isfile(join(\"/media/sf_raid/Data/PSDE/\"+type_file+\"/\", f))]\n",
    "#files = [\"10_imgt.txt\"]\n",
    "#files = [\"test_imgt.txt\"]\n",
    "#files = [\"181_imgt.txt\"]\n",
    "#files = [\"47_imgt.txt\", \"168_imgt.txt\"]\n",
    "\n",
    "total_count=0\n",
    "\n",
    "with open(\"/media/sf_raid/Data/PSDE/\"+type_file+\".fasta\", \"w\") as output_handle:\n",
    "\tfor i in files :\n",
    "\t\tFT=[]\n",
    "\t\tFT_seq=[]\n",
    "\t\tSQ=[]\n",
    "\t\tseq=\"\"\n",
    "\t\tL1L2V_tab=[]\n",
    "\t\tL1L2V_dict={}\n",
    "\t\tL1L2V_dict_final={}\n",
    "\t\tif str(i[-8:]) == \"imgt.txt\":\n",
    "\t\t\tprint(i)\n",
    "\t\t\tf = open(\"/media/sf_raid/Data/PSDE/\"+type_file+\"/\"+i,\"r\")\n",
    "\t\t\tboolSQ=False\n",
    "\t\t\tfor line in f :\n",
    "\t\t\t\tif line.split(\"  \")[0] == \"FT\" :\n",
    "\t\t\t\t\tline = filter(None, line.split(\" \"))\n",
    "\t\t\t\t\tline[-1]=line[-1][0:-1]\n",
    "\t\t\t\t\tif len(line) > 3 :\n",
    "\t\t\t\t\t\tline[1] = ' '.join(line[1:])\n",
    "\t\t\t\t\t\tdel line[2:]\n",
    "\t\t\t\t\telif len(line) == 3 :\n",
    "\t\t\t\t\t\tif \"..\" not in line[-1]:\n",
    "\t\t\t\t\t\t\tline[1] = ' '.join(line[1:])\n",
    "\t\t\t\t\t\t\tdel line[2:]\n",
    "\t\t\t\t\tFT.append(line)\n",
    "\t\t\t\telif line.split(\"  \")[0] == \"//\" :\n",
    "\t\t\t\t\tboolSQ=False\n",
    "\t\t\t\telif line.split(\"  \")[0] == \"SQ\" :\n",
    "\t\t\t\t\tboolSQ=True\n",
    "\t\t\t\tif boolSQ==True and line.split(\"  \")[0] == \"\":\n",
    "\t\t\t\t\tfor j in line.split(\" \"):\n",
    "\t\t\t\t\t\tif j.startswith(\"a\") or j.startswith(\"t\") or j.startswith(\"c\") or j.startswith(\"g\") or j.startswith(\"A\") or j.startswith(\"T\") or j.startswith(\"C\") or j.startswith(\"G\") :\n",
    "\t\t\t\t\t\t\tseq+=str(j)\n",
    "\n",
    "\t\t\tboolGene=False\n",
    "\t\t\tcheck_gene=False\n",
    "\t\t\tcheck_lpart1=False\n",
    "\t\t\tcheck_vexon=False\n",
    "\t\t\tfor j in FT:\n",
    "\t\t\t\tif boolGene :\n",
    "\t\t\t\t\tif j[1] == \"/partial\" or j[1] == \"/complement\" or '&' in FT_seq[-1][-1]:\n",
    "\t\t\t\t\t\t#print(\"DEGAGE  : bad name or position\")\n",
    "\t\t\t\t\t\tcheck_gene=False\n",
    "\t\t\t\t\t\tboolGene=False\n",
    "\t\t\t\t\t\tdel FT_seq[-1]\n",
    "\t\t\t\t\telse :\n",
    "\t\t\t\t\t\t#print(j)\n",
    "\t\t\t\t\t\tFT_seq[-1].append(j[1])\n",
    "\t\t\t\t\t\tboolGene=False\n",
    "\t\t\t\tif len(j) == 3:\n",
    "\t\t\t\t\tif j[1] == \"V-GENE\" :\n",
    "\t\t\t\t\t\tif check_gene and not check_lpart1 and not check_vexon :\n",
    "\t\t\t\t\t\t\t#print(\"DEGAGE no lpart and exon\")\n",
    "\t\t\t\t\t\t\tdel FT_seq[-1]\n",
    "\t\t\t\t\t\telif check_gene and not check_lpart1 and check_vexon :\n",
    "\t\t\t\t\t\t\t#print(\"DEGAGE no lpart1\")\n",
    "\t\t\t\t\t\t\tdel FT_seq[-1]\n",
    "\t\t\t\t\t\t\tdel FT_seq[-1]\n",
    "\t\t\t\t\t\telif check_gene and check_lpart1 and not check_vexon :\n",
    "\t\t\t\t\t\t\t#print(\"DEGAGE no vexon\")\n",
    "\t\t\t\t\t\t\tdel FT_seq[-1]\n",
    "\t\t\t\t\t\t\tdel FT_seq[-1]\n",
    "\t\t\t\t\t\t#print(\"\\n\")\n",
    "\t\t\t\t\t\t#print(FT_seq)\n",
    "\t\t\t\t\t\t#print(\"----------------------\")\n",
    "\t\t\t\t\t\t#print(\"V-GENE\")\n",
    "\n",
    "\t\t\t\t\t\tcheck_gene=True\n",
    "\t\t\t\t\t\tcheck_lpart1=False\n",
    "\t\t\t\t\t\tcheck_vexon=False\n",
    "\t\t\t\t\t\tboolGene=True\n",
    "\n",
    "\t\t\t\t\t\tFT_seq.append(j)\n",
    "\t\t\t\t\telif j[1] == \"L-PART1\" :\n",
    "\t\t\t\t\t\tif check_gene and '&' not in j[-1]:\n",
    "\t\t\t\t\t\t\t#print(\"L-PART1\")\n",
    "\t\t\t\t\t\t\tFT_seq.append(j)\n",
    "\t\t\t\t\t\t\tcheck_lpart1=True\n",
    "\t\t\t\t\t\t\n",
    "\t\t\t\t\telif j[1] == \"V-EXON\" :\n",
    "\t\t\t\t\t\tif check_gene and '&' not in j[-1]:\n",
    "\t\t\t\t\t\t\t#print(\"V-EXON\")\n",
    "\t\t\t\t\t\t\tFT_seq.append(j)\n",
    "\t\t\t\t\t\t\tcheck_vexon=True\n",
    "\t\t\t\t\n",
    "\t\t\t#print(FT_seq)\n",
    "\t\t\tindex=0\n",
    "\t\t\tfor j in FT_seq\t:\n",
    "\t\t\t\tFT_seq[index].append(seq[int(FT_seq[index][2].split(\"..\")[0])-1:int(FT_seq[index][2].split(\"..\")[1])])\n",
    "\t\t\t\tindex+=1\n",
    "\n",
    "\t\t\tindex=\"\"\n",
    "\t\t\tfor j in FT_seq\t:\n",
    "\t\t\t\tif j[1] == \"V-GENE\" :\n",
    "\t\t\t\t\tindex=str(j[3].split(\"&quot;\")[1])\n",
    "\t\t\t\t\t#print(\"Got a V-GENE : \"+str(index))\n",
    "\t\t\t\t\tL1L2V_dict[index] = []\n",
    "\t\t\t\telif j[1] == \"L-PART1\" :\n",
    "\t\t\t\t\tL1L2V_dict[index].append(j[-1])\n",
    "\t\t\t\telif j[1] == \"V-EXON\" :\n",
    "\t\t\t\t\tL1L2V_dict[index].append(j[-1])\n",
    "\n",
    "\t\t\tcount=0\n",
    "\t\t\tfor key, value in L1L2V_dict.items():\n",
    "\t\t\t\tif len(value) == 2 :\n",
    "\t\t\t\t\tif key not in L1L2V_dict_final :\n",
    "\t\t\t\t\t\tcount+=1\n",
    "\t\t\t\t\t\tL1L2V_dict_final[key]=''.join(str(k) for k in value)\n",
    "\t\t\t\t\t#else :\n",
    "\t\t\t\t\t#\tprint(\"Already in here !\")\n",
    "\n",
    "\t\t\tprint(str(count)+\" entries added to the dictionnary\")\n",
    "\t\t\ttotal_count+=count\n",
    "\n",
    "\t\t\tfor key, value in L1L2V_dict_final.items():\n",
    "\t\t\t\trecord = SeqRecord(Seq(str(value), generic_dna), id=str(key), name=\"\", description=\"\")\n",
    "\t\t\t\tSeqIO.write(record, output_handle, \"fasta\")\n",
    "print(str(total_count)+\" entries\")"
   ]
  },
  {
   "cell_type": "markdown",
   "metadata": {},
   "source": [
    "# 2.4) Predoss"
   ]
  },
  {
   "cell_type": "markdown",
   "metadata": {},
   "source": [
    "Use of Predoss for the prediction of donor splice sites, mainly in vertebrates, in eukaryotic gene.\n",
    "Artificial Neural Network used."
   ]
  },
  {
   "cell_type": "markdown",
   "metadata": {},
   "source": [
    "http://cabgrid.res.in:8080/predoss/"
   ]
  },
  {
   "cell_type": "markdown",
   "metadata": {},
   "source": [
    "Manually, send your files to Predoss and run using ANN method.\n",
    "Then download the result file in .tsv"
   ]
  },
  {
   "cell_type": "markdown",
   "metadata": {},
   "source": [
    "# 2.5) Filtering"
   ]
  },
  {
   "cell_type": "markdown",
   "metadata": {},
   "source": [
    "## 2.5.1) Detection of donor splice sites in phase"
   ]
  },
  {
   "cell_type": "markdown",
   "metadata": {},
   "source": [
    "To check the phasing of all result row. Just create a new column and for each row do : (Start_position-2)/3.\n",
    "Then, create an other column next to the previous one and check if the previous result is integer or not.\n",
    "Keep the true result and here we are."
   ]
  },
  {
   "cell_type": "markdown",
   "metadata": {},
   "source": [
    "To end the filtering session, just filter on gene name and score decreasing."
   ]
  }
 ],
 "metadata": {
  "anaconda-cloud": {},
  "kernelspec": {
   "display_name": "Bash",
   "language": "bash",
   "name": "bash"
  },
  "language_info": {
   "codemirror_mode": "shell",
   "file_extension": ".sh",
   "mimetype": "text/x-sh",
   "name": "bash"
  }
 },
 "nbformat": 4,
 "nbformat_minor": 1
}
